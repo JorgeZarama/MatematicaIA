{
  "cells": [
    {
      "cell_type": "markdown",
      "metadata": {
        "id": "view-in-github",
        "colab_type": "text"
      },
      "source": [
        "<a href=\"https://colab.research.google.com/github/JorgeZarama/MatematicaIA/blob/main/determinante_recursivo.ipynb\" target=\"_parent\"><img src=\"https://colab.research.google.com/assets/colab-badge.svg\" alt=\"Open In Colab\"/></a>"
      ]
    },
    {
      "cell_type": "code",
      "execution_count": null,
      "metadata": {
        "id": "vnt-AqwCI6tZ"
      },
      "outputs": [],
      "source": [
        "import numpy as np"
      ]
    },
    {
      "cell_type": "markdown",
      "source": [
        "Nombres:<br>\n",
        "Daniel Velasquez Castro<br>\n",
        "Jorge Andrés Zarama Benavides<br>\n",
        "Grupo: 66"
      ],
      "metadata": {
        "id": "fMF6uZOaijiA"
      }
    },
    {
      "cell_type": "markdown",
      "metadata": {
        "id": "F8P-CPqwhkAX"
      },
      "source": [
        "## a. Implementa una función, determinante recursivo, que obtenga el determinante de una matriz cuadrada utilizando la definición recursiva de Laplace.\n"
      ]
    },
    {
      "cell_type": "code",
      "execution_count": null,
      "metadata": {
        "id": "rOvEGmPz3bOb"
      },
      "outputs": [],
      "source": [
        "def determinante_recursivo(matriz):\n",
        "    nueva_matriz = np.array(matriz, dtype=float)\n",
        "\n",
        "    #Para poder aplicar la definición recursiva de laplace vamos a garantizar que sea una matriz cuadrada\n",
        "    if nueva_matriz.shape[0]!= nueva_matriz.shape[1]:\n",
        "      return print(\"Esta no es una matriz cuadrada\")\n",
        "\n",
        "    #Como vamos a implementar una función recursiva definimos el caso base\n",
        "    #matriz 1x1\n",
        "    if len(nueva_matriz) == 1:\n",
        "        return nueva_matriz[0][0]\n",
        "\n",
        "    # Inicializar el determinante\n",
        "    det = 0.0\n",
        "    for j in range(len(nueva_matriz[0])):\n",
        "\n",
        "        # Calcular el cofactor\n",
        "        cofactor = (-1) ** (j) * nueva_matriz[0][j] * determinante_recursivo(submatriz(nueva_matriz, 0, j))\n",
        "        # Sumar el cofactor al determinante\n",
        "        det += cofactor\n",
        "    return det\n",
        "\n",
        "\n",
        "def submatriz(nueva_matriz, i, j):\n",
        "\n",
        "    # Retorna la submatriz al eliminar la fila i y la columna j de una matriz.\n",
        "    sub = np.delete(nueva_matriz, i, axis=0)  # Eliminar la fila i\n",
        "    sub = np.delete(sub, j, axis=1)  # Eliminar la columna j\n",
        "    return sub\n"
      ]
    },
    {
      "cell_type": "markdown",
      "metadata": {
        "id": "7MWaRSPWhyPt"
      },
      "source": [
        "Realizamos las respectivas pruebas"
      ]
    },
    {
      "cell_type": "code",
      "execution_count": null,
      "metadata": {
        "colab": {
          "base_uri": "https://localhost:8080/"
        },
        "id": "l0VCdKsKhhfk",
        "outputId": "95b41b94-5c7b-4403-e34f-f2022452fa03"
      },
      "outputs": [
        {
          "output_type": "stream",
          "name": "stdout",
          "text": [
            "-15.0\n",
            "-18.0\n"
          ]
        }
      ],
      "source": [
        "matriz = [(1,2,3),(3,2,0),(2,1,3)]\n",
        "matriz2 = [(1,2,3,4),(3,2,0,1),(2,1,3,2),(2,1,1,2)]\n",
        "print(determinante_recursivo(matriz))\n",
        "print(determinante_recursivo(matriz2))"
      ]
    },
    {
      "cell_type": "markdown",
      "metadata": {
        "id": "0vm6dFJviWrY"
      },
      "source": [
        "##b. Si A es una matriz cuadrada n×n y triangular (superior o inferior, es decir, con entradas nulas por debajo o por encima de la diagonal, respectivamente), ¿existe alguna forma de calcular de forma directa y sencilla su determinante? Justifíquese la respuesta.\n"
      ]
    },
    {
      "cell_type": "code",
      "execution_count": null,
      "metadata": {
        "id": "Ie1NOwHgjLFF"
      },
      "outputs": [],
      "source": [
        "#Si, para esto creamos una función que se llama matriz_triangular la cual primero revisa si la matriz es triangular inferior o superior\n",
        "#y si se cumple alguno de estos casos la función procederá a calcular el determinando multiplicando los números de la diagonal principal\n",
        "\n",
        "def matriz_triangular(matriz):\n",
        "  nueva_matriz = np.array(matriz, dtype=float)\n",
        "\n",
        "  #Para garantizar que sea una matriz cuadrada\n",
        "  if nueva_matriz.shape[0]!= nueva_matriz.shape[1]:\n",
        "      return print(\"Esta no es una matriz cuadrada\")\n",
        "  factor = nueva_matriz.shape[1]\n",
        "\n",
        "# Incicializamos algunas variables\n",
        "  triangular_s = 1\n",
        "  triangular_i = 1\n",
        "\n",
        "# Revisamos si la matriz es triangular superior\n",
        "  for i in range(factor-1):\n",
        "     if np.sum(nueva_matriz[i][i+1:], axis=0) != 0:\n",
        "      triangular_s = 0\n",
        "      break\n",
        "\n",
        "# Revisamos si la matriz es triangular inferior\n",
        "  for i in range(factor-1):\n",
        "    if np.sum(nueva_matriz[factor-i-1][:factor-i-1], axis=0) != 0:\n",
        "      triangular_i = 0\n",
        "      break\n",
        "\n",
        " # Si es triangular inferior o superiro calculamos su determinante como la multiplización de la diagonal\n",
        "  if triangular_s == 1 or triangular_i == 1:\n",
        "    determinante = 1\n",
        "    for i in range(factor):\n",
        "      determinante *= nueva_matriz[i][i]\n",
        "    return determinante\n",
        "\n",
        "#Si la matriz no es triangular procedemos a calcular el determinante utilizando la primer función implementada\n",
        "\n",
        "  if triangular_s == 0 and triangular_i == 0:\n",
        "   print(\"Esta matriz no es triangular superior o inferior\")\n",
        "   #si no es triangular superior o inferior calculamos el determinante con la función de definición recursiva de Laplace\n",
        "   #print(\"Este es el determinanate calculado con definición recursiva de Laplace: \",determinante_recursivo(matriz))\n",
        "   return determinante_recursivo(matriz)\n",
        "\n"
      ]
    },
    {
      "cell_type": "code",
      "execution_count": null,
      "metadata": {
        "colab": {
          "base_uri": "https://localhost:8080/"
        },
        "id": "6tUCbocvxH_q",
        "outputId": "ba6f435c-9280-4e8d-eea8-cbed04a8f68f"
      },
      "outputs": [
        {
          "output_type": "stream",
          "name": "stdout",
          "text": [
            "Esta matriz no es triangular superior o inferior\n",
            "determinante cálculado como matriz triangular -12.0\n",
            "----------\n",
            "determinante cálculado como matriz triangular 6.0\n",
            "----------\n",
            "determinante recursivo 6.0\n"
          ]
        }
      ],
      "source": [
        "matriz1 = [(1,2,0),(3,2,0),(2,1,3)]\n",
        "matriz2 = [(1,0,0),(3,2,0),(2,1,3)]\n",
        "print(\"determinante cálculado como matriz triangular\",matriz_triangular(matriz1))\n",
        "print(\"----------\")\n",
        "print(\"determinante cálculado como matriz triangular\",matriz_triangular(matriz2))\n",
        "print(\"----------\")\n",
        "print(\"determinante recursivo\",determinante_recursivo(matriz2))"
      ]
    },
    {
      "cell_type": "markdown",
      "metadata": {
        "id": "g3OtkG7lKNYn"
      },
      "source": [
        "##c. Determínese de forma justificada cómo alteran el determinante de una matriz n × n las dos operaciones elementales siguientes: Intercambiar una fila (o columna) por otra fila (o columna). Sumar a una fila (o columna) otra fila (o columna) multiplicada por un escalar α."
      ]
    },
    {
      "cell_type": "code",
      "execution_count": null,
      "metadata": {
        "id": "uLFjAwsSxPMA"
      },
      "outputs": [],
      "source": [
        "def intercambiar_fila(lista, fila1, fila2):\n",
        "  nueva_matriz = np.array(lista, dtype=float)\n",
        "  print(\"matriz sin cambios\\n\",  nueva_matriz)\n",
        "  print(\"determinante matriz sin cambios:\")\n",
        "  print(determinante_recursivo(lista))\n",
        "  if nueva_matriz.shape[0]!= nueva_matriz.shape[1]:\n",
        "    return print(\"Esta no es una matriz cuadrada\")\n",
        "  if fila1 > nueva_matriz.shape[0]-1 or fila2 > nueva_matriz.shape[0]-1:\n",
        "    return print(\"El número de filas ingresado es mayor que el que la matriz tiene\")\n",
        "  nueva_matriz[[fila1, fila2],:] = nueva_matriz[[fila2, fila1],:]\n",
        "  print(\"Esta es la nueva matriz:\\n\",nueva_matriz)\n",
        "  print(\"determinante nueva matriz:\")\n",
        "  print(determinante_recursivo(nueva_matriz))\n",
        "  return"
      ]
    },
    {
      "cell_type": "code",
      "execution_count": null,
      "metadata": {
        "colab": {
          "base_uri": "https://localhost:8080/"
        },
        "id": "TvjpeAxcUNjd",
        "outputId": "93e72c47-34df-42c0-8b09-5da4ee7cec8e"
      },
      "outputs": [
        {
          "output_type": "stream",
          "name": "stdout",
          "text": [
            "matriz sin cambios\n",
            " [[1. 2. 3. 4.]\n",
            " [3. 2. 0. 1.]\n",
            " [2. 1. 3. 2.]\n",
            " [2. 1. 2. 2.]]\n",
            "determinante matriz sin cambios:\n",
            "-9.0\n",
            "Esta es la nueva matriz:\n",
            " [[3. 2. 0. 1.]\n",
            " [1. 2. 3. 4.]\n",
            " [2. 1. 3. 2.]\n",
            " [2. 1. 2. 2.]]\n",
            "determinante nueva matriz:\n",
            "9.0\n",
            "matriz sin cambios\n",
            " [[1. 2. 3. 4.]\n",
            " [3. 2. 0. 1.]\n",
            " [2. 1. 3. 2.]\n",
            " [2. 1. 2. 2.]]\n",
            "determinante matriz sin cambios:\n",
            "-9.0\n",
            "Esta es la nueva matriz:\n",
            " [[2. 1. 3. 2.]\n",
            " [3. 2. 0. 1.]\n",
            " [1. 2. 3. 4.]\n",
            " [2. 1. 2. 2.]]\n",
            "determinante nueva matriz:\n",
            "9.0\n",
            "matriz sin cambios\n",
            " [[1. 2. 3. 4.]\n",
            " [3. 2. 0. 1.]\n",
            " [2. 1. 3. 2.]\n",
            " [2. 1. 2. 2.]]\n",
            "determinante matriz sin cambios:\n",
            "-9.0\n",
            "Esta es la nueva matriz:\n",
            " [[2. 1. 2. 2.]\n",
            " [3. 2. 0. 1.]\n",
            " [2. 1. 3. 2.]\n",
            " [1. 2. 3. 4.]]\n",
            "determinante nueva matriz:\n",
            "9.0\n",
            "matriz sin cambios\n",
            " [[1. 2. 3. 4.]\n",
            " [3. 2. 0. 1.]\n",
            " [2. 1. 3. 2.]\n",
            " [2. 1. 2. 2.]]\n",
            "determinante matriz sin cambios:\n",
            "-9.0\n",
            "Esta es la nueva matriz:\n",
            " [[1. 2. 3. 4.]\n",
            " [3. 2. 0. 1.]\n",
            " [2. 1. 2. 2.]\n",
            " [2. 1. 3. 2.]]\n",
            "determinante nueva matriz:\n",
            "9.0\n"
          ]
        }
      ],
      "source": [
        "lista = [(1,2,3,4),(3,2,0,1),(2,1,3,2),(2,1,2,2)]\n",
        "intercambiar_fila(lista,0,1)\n",
        "intercambiar_fila(lista,0,2)\n",
        "intercambiar_fila(lista,0,3)\n",
        "intercambiar_fila(lista,2,3)"
      ]
    },
    {
      "cell_type": "markdown",
      "metadata": {
        "id": "ByeqbPcsY4ma"
      },
      "source": [
        "Se puede observar que para el nuevo determinante cambia su signo pero se mantiente su valor\n",
        "\n",
        "\n"
      ]
    },
    {
      "cell_type": "code",
      "execution_count": null,
      "metadata": {
        "id": "_7faiqSSVJ3T"
      },
      "outputs": [],
      "source": [
        "def intercambiar_columna(lista, columna1, columna2):\n",
        "  nueva_matriz = np.array(lista, dtype=float)\n",
        "  print(\"matriz sin cambios\\n\",  nueva_matriz)\n",
        "  print(\"determinante matriz sin cambios:\")\n",
        "  print(determinante_recursivo(lista))\n",
        "  if nueva_matriz.shape[0]!= nueva_matriz.shape[1]:\n",
        "    return print(\"Esta no es una matriz cuadrada\")\n",
        "  if columna1 > nueva_matriz.shape[0]-1 or columna2 > nueva_matriz.shape[0]-1:\n",
        "    return print(\"El número de columnas ingresado es mayor que el que la matriz tiene\")\n",
        "\n",
        "  nueva_matriz[:, [columna1, columna2]] = nueva_matriz[:, [columna2, columna1]]\n",
        "  print(\"Esta es la nueva matriz:\\n\",nueva_matriz)\n",
        "  print(\"determinante nueva matriz:\")\n",
        "  print(determinante_recursivo(nueva_matriz))\n",
        "  return\n"
      ]
    },
    {
      "cell_type": "code",
      "execution_count": null,
      "metadata": {
        "colab": {
          "base_uri": "https://localhost:8080/"
        },
        "id": "XRiyAc3PVOt7",
        "outputId": "dad276f2-f52c-434e-edca-9900023c51f8"
      },
      "outputs": [
        {
          "output_type": "stream",
          "name": "stdout",
          "text": [
            "matriz sin cambios\n",
            " [[1. 2. 3. 4.]\n",
            " [3. 2. 1. 2.]\n",
            " [2. 1. 3. 1.]\n",
            " [2. 1. 3. 3.]]\n",
            "determinante matriz sin cambios:\n",
            "-24.0\n",
            "Esta es la nueva matriz:\n",
            " [[2. 1. 3. 4.]\n",
            " [2. 3. 1. 2.]\n",
            " [1. 2. 3. 1.]\n",
            " [1. 2. 3. 3.]]\n",
            "determinante nueva matriz:\n",
            "24.0\n",
            "matriz sin cambios\n",
            " [[1. 2. 3. 4.]\n",
            " [3. 2. 1. 2.]\n",
            " [2. 1. 3. 1.]\n",
            " [2. 1. 3. 3.]]\n",
            "determinante matriz sin cambios:\n",
            "-24.0\n",
            "Esta es la nueva matriz:\n",
            " [[3. 2. 1. 4.]\n",
            " [1. 2. 3. 2.]\n",
            " [3. 1. 2. 1.]\n",
            " [3. 1. 2. 3.]]\n",
            "determinante nueva matriz:\n",
            "24.0\n",
            "matriz sin cambios\n",
            " [[1. 2. 3. 4.]\n",
            " [3. 2. 1. 2.]\n",
            " [2. 1. 3. 1.]\n",
            " [2. 1. 3. 3.]]\n",
            "determinante matriz sin cambios:\n",
            "-24.0\n",
            "Esta es la nueva matriz:\n",
            " [[4. 2. 3. 1.]\n",
            " [2. 2. 1. 3.]\n",
            " [1. 1. 3. 2.]\n",
            " [3. 1. 3. 2.]]\n",
            "determinante nueva matriz:\n",
            "24.0\n"
          ]
        }
      ],
      "source": [
        "\n",
        "lista = [(1, 2, 3, 4), (3, 2, 1, 2), (2, 1, 3, 1), (2, 1, 3, 3)]\n",
        "intercambiar_columna(lista,0,1)\n",
        "intercambiar_columna(lista,0,2)\n",
        "intercambiar_columna(lista,0,3)"
      ]
    },
    {
      "cell_type": "markdown",
      "metadata": {
        "id": "HN1wKLk68ZIo"
      },
      "source": [
        "Se puede observar que para el nuevo determinante cambia su signo pero se mantiente su valor"
      ]
    },
    {
      "cell_type": "code",
      "execution_count": null,
      "metadata": {
        "id": "Js1QYDP2kIAN"
      },
      "outputs": [],
      "source": [
        "def sumar_columna(lista, columna1, columna2):\n",
        "  nueva_matriz = np.array(lista, dtype=float)\n",
        "  print(\"matriz sin cambios\\n\",  nueva_matriz)\n",
        "  print(\"determinante matriz sin cambios:\")\n",
        "  print(determinante_recursivo(lista))\n",
        "  if nueva_matriz.shape[0]!= nueva_matriz.shape[1]:\n",
        "    return print(\"Esta no es una matriz cuadrada\")\n",
        "  if columna1 > nueva_matriz.shape[0]-1 or columna2 > nueva_matriz.shape[0]-1:\n",
        "    return print(\"El número de columnas ingresado es mayor que el que la matriz tiene\")\n",
        "  primera_columna = nueva_matriz[:, columna1]\n",
        "  segunda_columna = nueva_matriz[:, columna2]\n",
        "  suma_columnas = primera_columna + segunda_columna\n",
        "  nueva_matriz[:, columna1] = suma_columnas\n",
        "  print(\"Esta es la nueva matriz:\\n\",nueva_matriz)\n",
        "  print(\"determinante nueva matriz:\")\n",
        "  print(determinante_recursivo(nueva_matriz))\n",
        "  return\n"
      ]
    },
    {
      "cell_type": "code",
      "execution_count": null,
      "metadata": {
        "colab": {
          "base_uri": "https://localhost:8080/"
        },
        "id": "ymKfas3F9aTV",
        "outputId": "58cdd255-bdd9-4702-9d78-62eb753eaf7d"
      },
      "outputs": [
        {
          "output_type": "stream",
          "name": "stdout",
          "text": [
            "matriz sin cambios\n",
            " [[1. 2. 3. 4.]\n",
            " [3. 2. 1. 2.]\n",
            " [2. 1. 3. 1.]\n",
            " [2. 1. 3. 3.]]\n",
            "determinante matriz sin cambios:\n",
            "-24.0\n",
            "Esta es la nueva matriz:\n",
            " [[3. 2. 3. 4.]\n",
            " [5. 2. 1. 2.]\n",
            " [3. 1. 3. 1.]\n",
            " [3. 1. 3. 3.]]\n",
            "determinante nueva matriz:\n",
            "-24.0\n",
            "matriz sin cambios\n",
            " [[1. 2. 3. 4.]\n",
            " [3. 2. 1. 2.]\n",
            " [2. 1. 3. 1.]\n",
            " [2. 1. 3. 3.]]\n",
            "determinante matriz sin cambios:\n",
            "-24.0\n",
            "Esta es la nueva matriz:\n",
            " [[4. 2. 3. 4.]\n",
            " [4. 2. 1. 2.]\n",
            " [5. 1. 3. 1.]\n",
            " [5. 1. 3. 3.]]\n",
            "determinante nueva matriz:\n",
            "-24.0\n",
            "matriz sin cambios\n",
            " [[1. 2. 3. 4.]\n",
            " [3. 2. 1. 2.]\n",
            " [2. 1. 3. 1.]\n",
            " [2. 1. 3. 3.]]\n",
            "determinante matriz sin cambios:\n",
            "-24.0\n",
            "Esta es la nueva matriz:\n",
            " [[5. 2. 3. 4.]\n",
            " [5. 2. 1. 2.]\n",
            " [3. 1. 3. 1.]\n",
            " [5. 1. 3. 3.]]\n",
            "determinante nueva matriz:\n",
            "-24.0\n",
            "matriz sin cambios\n",
            " [[1. 2. 3. 4.]\n",
            " [3. 2. 1. 2.]\n",
            " [2. 1. 3. 1.]\n",
            " [2. 1. 3. 3.]]\n",
            "determinante matriz sin cambios:\n",
            "-24.0\n",
            "Esta es la nueva matriz:\n",
            " [[1. 2. 7. 4.]\n",
            " [3. 2. 3. 2.]\n",
            " [2. 1. 4. 1.]\n",
            " [2. 1. 6. 3.]]\n",
            "determinante nueva matriz:\n",
            "-24.0\n"
          ]
        }
      ],
      "source": [
        "lista = [(1, 2, 3, 4), (3, 2, 1, 2), (2, 1, 3, 1), (2, 1, 3, 3)]\n",
        "sumar_columna(lista,0,1)\n",
        "sumar_columna(lista,0,2)\n",
        "sumar_columna(lista,0,3)\n",
        "sumar_columna(lista,2,3)"
      ]
    },
    {
      "cell_type": "markdown",
      "metadata": {
        "id": "6KeEMo2K_4nj"
      },
      "source": [
        "Se puede observar que para el nuevo determinante es el mismo para el caso de suma de columnas"
      ]
    },
    {
      "cell_type": "code",
      "execution_count": null,
      "metadata": {
        "id": "5E9QvUfD9iO1"
      },
      "outputs": [],
      "source": [
        "def sumar_filas(lista, fila1, fila2):\n",
        "  nueva_matriz = np.array(lista, dtype=float)\n",
        "  print(\"matriz sin cambios\\n\",  nueva_matriz)\n",
        "  print(\"determinante matriz sin cambios:\")\n",
        "  print(determinante_recursivo(lista))\n",
        "  if nueva_matriz.shape[0]!= nueva_matriz.shape[1]:\n",
        "    return print(\"Esta no es una matriz cuadrada\")\n",
        "  if fila1 > nueva_matriz.shape[0]-1 or fila2 > nueva_matriz.shape[0]-1:\n",
        "    return print(\"El número de columnas ingresado es mayor que el que la matriz tiene\")\n",
        "  primera_fila = nueva_matriz[fila1,:]\n",
        "  segunda_fila = nueva_matriz[fila2,:]\n",
        "  suma_filas = primera_fila + segunda_fila\n",
        "  nueva_matriz[fila1,:] = suma_filas\n",
        "  print(\"Esta es la nueva matriz:\\n\",nueva_matriz)\n",
        "  print(\"determinante nueva matriz:\")\n",
        "  print(determinante_recursivo(nueva_matriz))\n",
        "  return\n"
      ]
    },
    {
      "cell_type": "code",
      "execution_count": null,
      "metadata": {
        "colab": {
          "base_uri": "https://localhost:8080/"
        },
        "id": "tCnDZVSWAzqr",
        "outputId": "6eccf2d7-6744-4000-9a8b-fe9a77573331"
      },
      "outputs": [
        {
          "output_type": "stream",
          "name": "stdout",
          "text": [
            "matriz sin cambios\n",
            " [[1. 2. 3. 4.]\n",
            " [3. 2. 1. 2.]\n",
            " [2. 1. 4. 1.]\n",
            " [2. 1. 3. 3.]]\n",
            "determinante matriz sin cambios:\n",
            "-34.0\n",
            "Esta es la nueva matriz:\n",
            " [[4. 4. 4. 6.]\n",
            " [3. 2. 1. 2.]\n",
            " [2. 1. 4. 1.]\n",
            " [2. 1. 3. 3.]]\n",
            "determinante nueva matriz:\n",
            "-34.0\n",
            "matriz sin cambios\n",
            " [[1. 2. 3. 4.]\n",
            " [3. 2. 1. 2.]\n",
            " [2. 1. 4. 1.]\n",
            " [2. 1. 3. 3.]]\n",
            "determinante matriz sin cambios:\n",
            "-34.0\n",
            "Esta es la nueva matriz:\n",
            " [[3. 3. 7. 5.]\n",
            " [3. 2. 1. 2.]\n",
            " [2. 1. 4. 1.]\n",
            " [2. 1. 3. 3.]]\n",
            "determinante nueva matriz:\n",
            "-34.0\n",
            "matriz sin cambios\n",
            " [[1. 2. 3. 4.]\n",
            " [3. 2. 1. 2.]\n",
            " [2. 1. 4. 1.]\n",
            " [2. 1. 3. 3.]]\n",
            "determinante matriz sin cambios:\n",
            "-34.0\n",
            "Esta es la nueva matriz:\n",
            " [[3. 3. 6. 7.]\n",
            " [3. 2. 1. 2.]\n",
            " [2. 1. 4. 1.]\n",
            " [2. 1. 3. 3.]]\n",
            "determinante nueva matriz:\n",
            "-34.0\n",
            "matriz sin cambios\n",
            " [[1. 2. 3. 4.]\n",
            " [3. 2. 1. 2.]\n",
            " [2. 1. 4. 1.]\n",
            " [2. 1. 3. 3.]]\n",
            "determinante matriz sin cambios:\n",
            "-34.0\n",
            "Esta es la nueva matriz:\n",
            " [[1. 2. 3. 4.]\n",
            " [3. 2. 1. 2.]\n",
            " [4. 2. 7. 4.]\n",
            " [2. 1. 3. 3.]]\n",
            "determinante nueva matriz:\n",
            "-34.0\n"
          ]
        }
      ],
      "source": [
        "lista = [(1, 2, 3, 4), (3, 2, 1, 2), (2, 1, 4, 1), (2, 1, 3, 3)]\n",
        "sumar_filas(lista,0,1)\n",
        "sumar_filas(lista,0,2)\n",
        "sumar_filas(lista,0,3)\n",
        "sumar_filas(lista,2,3)"
      ]
    },
    {
      "cell_type": "markdown",
      "metadata": {
        "id": "DPdWHhynBZxj"
      },
      "source": [
        "Se puede observar que para el nuevo determinante es el mismo para el caso de suma de filas"
      ]
    },
    {
      "cell_type": "code",
      "execution_count": null,
      "metadata": {
        "id": "q3BCL5BMBUyi"
      },
      "outputs": [],
      "source": [
        "def multiplicar_escalar(lista, escalar):\n",
        "  nueva_matriz = np.array(lista, dtype=float)\n",
        "  print(\"matriz sin cambios\\n\",  nueva_matriz)\n",
        "  print(\"determinante matriz sin cambios:\")\n",
        "  print(determinante_recursivo(lista))\n",
        "  if nueva_matriz.shape[0]!= nueva_matriz.shape[1]:\n",
        "    return print(\"Esta no es una matriz cuadrada\")\n",
        "  nueva_matriz = nueva_matriz * escalar\n",
        "  print(\"Esta es la nueva matriz:\\n\",nueva_matriz)\n",
        "  print(\"determinante nueva matriz:\")\n",
        "  print(determinante_recursivo(nueva_matriz))\n",
        "  return"
      ]
    },
    {
      "cell_type": "code",
      "execution_count": null,
      "metadata": {
        "colab": {
          "base_uri": "https://localhost:8080/"
        },
        "id": "NOgrFuizCIMJ",
        "outputId": "5728a6d7-fcbb-49af-b830-52ce9148bcd2"
      },
      "outputs": [
        {
          "output_type": "stream",
          "name": "stdout",
          "text": [
            "matriz sin cambios\n",
            " [[1. 2. 3. 4.]\n",
            " [3. 2. 1. 2.]\n",
            " [2. 1. 4. 1.]\n",
            " [2. 1. 3. 3.]]\n",
            "determinante matriz sin cambios:\n",
            "-34.0\n",
            "Esta es la nueva matriz:\n",
            " [[2. 4. 6. 8.]\n",
            " [6. 4. 2. 4.]\n",
            " [4. 2. 8. 2.]\n",
            " [4. 2. 6. 6.]]\n",
            "determinante nueva matriz:\n",
            "-544.0\n",
            "matriz sin cambios\n",
            " [[1. 2. 3. 4.]\n",
            " [3. 2. 1. 2.]\n",
            " [2. 1. 4. 1.]\n",
            " [2. 1. 3. 3.]]\n",
            "determinante matriz sin cambios:\n",
            "-34.0\n",
            "Esta es la nueva matriz:\n",
            " [[ 3.  6.  9. 12.]\n",
            " [ 9.  6.  3.  6.]\n",
            " [ 6.  3. 12.  3.]\n",
            " [ 6.  3.  9.  9.]]\n",
            "determinante nueva matriz:\n",
            "-2754.0\n",
            "matriz sin cambios\n",
            " [[1. 2. 3. 4.]\n",
            " [3. 2. 1. 2.]\n",
            " [2. 1. 4. 1.]\n",
            " [2. 1. 3. 3.]]\n",
            "determinante matriz sin cambios:\n",
            "-34.0\n",
            "Esta es la nueva matriz:\n",
            " [[ 4.  8. 12. 16.]\n",
            " [12.  8.  4.  8.]\n",
            " [ 8.  4. 16.  4.]\n",
            " [ 8.  4. 12. 12.]]\n",
            "determinante nueva matriz:\n",
            "-8704.0\n",
            "matriz sin cambios\n",
            " [[1. 2. 3. 4.]\n",
            " [3. 2. 1. 2.]\n",
            " [2. 1. 4. 1.]\n",
            " [2. 1. 3. 3.]]\n",
            "determinante matriz sin cambios:\n",
            "-34.0\n",
            "Esta es la nueva matriz:\n",
            " [[ 5. 10. 15. 20.]\n",
            " [15. 10.  5. 10.]\n",
            " [10.  5. 20.  5.]\n",
            " [10.  5. 15. 15.]]\n",
            "determinante nueva matriz:\n",
            "-21250.0\n"
          ]
        }
      ],
      "source": [
        "lista = [(1, 2, 3, 4), (3, 2, 1, 2), (2, 1, 4, 1), (2, 1, 3, 3)]\n",
        "multiplicar_escalar(lista,2)\n",
        "multiplicar_escalar(lista,3)\n",
        "multiplicar_escalar(lista,4)\n",
        "multiplicar_escalar(lista,5)"
      ]
    },
    {
      "cell_type": "markdown",
      "metadata": {
        "id": "y5YqjW4VDNk6"
      },
      "source": [
        "Se evidencia la sigueinte relación det(kA) = k^n * det(A)<br>\n",
        "Para nuestro caso det(A) = -34 <br>\n",
        "para k = 2, det = 2^4 * (-34) = -544<br>\n",
        "para k = 3, det = 3^4 * (-34) = -2754<br>\n",
        "para k = 4, det = 4^4 * (-34) = -8704<br>\n",
        "para k = 5, det = 5^4 * (-34) = -21250<br>\n"
      ]
    },
    {
      "cell_type": "code",
      "execution_count": null,
      "metadata": {
        "id": "nmtpQonGfZat"
      },
      "outputs": [],
      "source": [
        "def multiplicar_escalar_fila(lista, escalar, fila):\n",
        "  nueva_matriz = np.array(lista, dtype=float)\n",
        "  print(\"matriz sin cambios\\n\",  nueva_matriz)\n",
        "  print(\"determinante matriz sin cambios:\")\n",
        "  print(determinante_recursivo(nueva_matriz))\n",
        "  if nueva_matriz.shape[0]!= nueva_matriz.shape[1]:\n",
        "    return print(\"Esta no es una matriz cuadrada\")\n",
        "  nueva_matriz[fila,:] = nueva_matriz[fila,:] * escalar\n",
        "\n",
        "  print(\"Esta es la nueva matriz:\\n\",nueva_matriz)\n",
        "  print(\"determinante nueva matriz:\")\n",
        "  print(determinante_recursivo(nueva_matriz))\n",
        "  return\n"
      ]
    },
    {
      "cell_type": "code",
      "execution_count": null,
      "metadata": {
        "colab": {
          "base_uri": "https://localhost:8080/"
        },
        "id": "hOU3HhcSfprz",
        "outputId": "be58493a-54a5-4073-8657-692c09dddcd9"
      },
      "outputs": [
        {
          "output_type": "stream",
          "name": "stdout",
          "text": [
            "matriz sin cambios\n",
            " [[1. 2. 3. 4.]\n",
            " [3. 2. 1. 2.]\n",
            " [2. 1. 4. 1.]\n",
            " [2. 1. 3. 3.]]\n",
            "determinante matriz sin cambios:\n",
            "-34.0\n",
            "Esta es la nueva matriz:\n",
            " [[1. 2. 3. 4.]\n",
            " [3. 2. 1. 2.]\n",
            " [4. 2. 8. 2.]\n",
            " [2. 1. 3. 3.]]\n",
            "determinante nueva matriz:\n",
            "-68.0\n",
            "matriz sin cambios\n",
            " [[1. 2. 3. 4.]\n",
            " [3. 2. 1. 2.]\n",
            " [2. 1. 4. 1.]\n",
            " [2. 1. 3. 3.]]\n",
            "determinante matriz sin cambios:\n",
            "-34.0\n",
            "Esta es la nueva matriz:\n",
            " [[1. 2. 3. 4.]\n",
            " [9. 6. 3. 6.]\n",
            " [2. 1. 4. 1.]\n",
            " [2. 1. 3. 3.]]\n",
            "determinante nueva matriz:\n",
            "-102.0\n"
          ]
        }
      ],
      "source": [
        "lista = [(1, 2, 3, 4), (3, 2, 1, 2), (2, 1, 4, 1), (2, 1, 3, 3)]\n",
        "multiplicar_escalar_fila(lista,2,2)\n",
        "multiplicar_escalar_fila(lista,3,1)"
      ]
    },
    {
      "cell_type": "markdown",
      "source": [
        "Se evidencia la sigueinte relación det(k*filaA) = k * det(A)<br>"
      ],
      "metadata": {
        "id": "WUmsizzDhdGH"
      }
    },
    {
      "cell_type": "code",
      "source": [
        "def sumar_filas_escalar(lista, fila1, fila2, escalar):\n",
        "  nueva_matriz = np.array(lista, dtype=float)\n",
        "  print(\"matriz sin cambios\\n\",  nueva_matriz)\n",
        "  print(\"determinante matriz sin cambios:\")\n",
        "  print(determinante_recursivo(lista))\n",
        "  if nueva_matriz.shape[0]!= nueva_matriz.shape[1]:\n",
        "    return print(\"Esta no es una matriz cuadrada\")\n",
        "  if fila1 > nueva_matriz.shape[0]-1 or fila2 > nueva_matriz.shape[0]-1:\n",
        "    return print(\"El número de fila ingresado es mayor que el que la matriz tiene\")\n",
        "  primera_fila = nueva_matriz[fila1,:] * escalar\n",
        "  nueva_matriz[fila2,:] = nueva_matriz[fila2,:] - primera_fila\n",
        "  print(\"Esta es la nueva matriz:\\n\",nueva_matriz)\n",
        "  print(\"determinante nueva matriz:\")\n",
        "  print(determinante_recursivo(nueva_matriz))\n",
        "  return\n"
      ],
      "metadata": {
        "id": "XCsE2X3VKNtq"
      },
      "execution_count": null,
      "outputs": []
    },
    {
      "cell_type": "code",
      "source": [
        "lista = [(1, 2, 3, 4), (3, 2, 1, 2), (2, 1, 4, 1), (2, 1, 3, 3)]\n",
        "sumar_filas_escalar(lista,0,1,2)\n",
        "sumar_filas_escalar(lista,0,2,3)\n",
        "sumar_filas_escalar(lista,0,3,4)"
      ],
      "metadata": {
        "colab": {
          "base_uri": "https://localhost:8080/"
        },
        "id": "yYH9fUttOr8L",
        "outputId": "391fb3f1-e5b3-45c2-9f6c-231c59358845"
      },
      "execution_count": null,
      "outputs": [
        {
          "output_type": "stream",
          "name": "stdout",
          "text": [
            "matriz sin cambios\n",
            " [[1. 2. 3. 4.]\n",
            " [3. 2. 1. 2.]\n",
            " [2. 1. 4. 1.]\n",
            " [2. 1. 3. 3.]]\n",
            "determinante matriz sin cambios:\n",
            "-34.0\n",
            "Esta es la nueva matriz:\n",
            " [[ 1.  2.  3.  4.]\n",
            " [ 1. -2. -5. -6.]\n",
            " [ 2.  1.  4.  1.]\n",
            " [ 2.  1.  3.  3.]]\n",
            "determinante nueva matriz:\n",
            "-34.0\n",
            "matriz sin cambios\n",
            " [[1. 2. 3. 4.]\n",
            " [3. 2. 1. 2.]\n",
            " [2. 1. 4. 1.]\n",
            " [2. 1. 3. 3.]]\n",
            "determinante matriz sin cambios:\n",
            "-34.0\n",
            "Esta es la nueva matriz:\n",
            " [[  1.   2.   3.   4.]\n",
            " [  3.   2.   1.   2.]\n",
            " [ -1.  -5.  -5. -11.]\n",
            " [  2.   1.   3.   3.]]\n",
            "determinante nueva matriz:\n",
            "-34.0\n",
            "matriz sin cambios\n",
            " [[1. 2. 3. 4.]\n",
            " [3. 2. 1. 2.]\n",
            " [2. 1. 4. 1.]\n",
            " [2. 1. 3. 3.]]\n",
            "determinante matriz sin cambios:\n",
            "-34.0\n",
            "Esta es la nueva matriz:\n",
            " [[  1.   2.   3.   4.]\n",
            " [  3.   2.   1.   2.]\n",
            " [  2.   1.   4.   1.]\n",
            " [ -2.  -7.  -9. -13.]]\n",
            "determinante nueva matriz:\n",
            "-34.0\n"
          ]
        }
      ]
    },
    {
      "cell_type": "markdown",
      "source": [
        "Trabajamos el caso en el cual se resta a una fila otra de la misma matriz multiplicada por un escalar, este caso lo veremos despues para los cálculos de eliminación de Gauss con pivoteo parcial. Vemos que cuando restamos a una fila de la matriz otra multiplicada por un escalar, el determinante no cambia."
      ],
      "metadata": {
        "id": "A7HlgMeWMKJf"
      }
    },
    {
      "cell_type": "markdown",
      "metadata": {
        "id": "HPO6MyJrFBGW"
      },
      "source": [
        "##d) Investiga sobre el método de eliminación de Gauss con pivoteo parcial e impleméntalo para escalonar una matriz (es decir, convertirla en una matriz triangular inferior) a partir de las operaciones elementales descritas en el apartado anterior.\n"
      ]
    },
    {
      "cell_type": "code",
      "execution_count": null,
      "metadata": {
        "id": "znEqlYOfCTHq"
      },
      "outputs": [],
      "source": [
        "def eliminacion_gauss_pivoteo_parcial(matriz):\n",
        "\n",
        "    # Aplica el método de eliminación de Gauss con pivoteo parcial para escalonar una matriz.\n",
        "    # Convertir la matriz a un arreglo NumPy de tipo float ya que las divisiones harían que ya no sean enteros\n",
        "    nueva_matriz = np.array(matriz, dtype=float)\n",
        "    n = len(matriz)  # Factor n de la Matriz\n",
        "\n",
        "    for i in range(n-1):\n",
        "        # Pivoteo parcial: buscar el elemento pivote máximo en valor absoluto (función abs de nunpy) y su índice en la columna actual\n",
        "        max_idx = np.argmax(np.abs(nueva_matriz[i:, i])) + i\n",
        "        # Realizó el intercambio de filas dejando la que contiene el mayor valor (valor absoluto) en la primera fila\n",
        "        nueva_matriz[[i, max_idx]] = nueva_matriz[[max_idx, i]]\n",
        "\n",
        "        # Eliminación gaussiana en las filas siguientes\n",
        "        for j in range(i+1, n):\n",
        "            #Encontramos el valor del escalar que nos permitirá establecer en cero los factores debajo de la columna del mayor factor elejido\n",
        "            factor = nueva_matriz[j, i] / nueva_matriz[i, i]\n",
        "            #Establecemos en cero los valores de la columna por debajo del valor mas grande elegido\n",
        "            nueva_matriz[j, i:] -= factor * nueva_matriz[i, i:]\n",
        "    return nueva_matriz\n"
      ]
    },
    {
      "cell_type": "code",
      "execution_count": null,
      "metadata": {
        "id": "aCMvwbt3GTGm",
        "colab": {
          "base_uri": "https://localhost:8080/"
        },
        "outputId": "47253d5d-c23d-42fe-87ad-c7b4b9c8fbbe"
      },
      "outputs": [
        {
          "output_type": "stream",
          "name": "stdout",
          "text": [
            "Matriz diagonalizada \n",
            " [[ 4.    3.    1.    2.  ]\n",
            " [ 0.    1.25 -1.25  0.5 ]\n",
            " [ 0.    0.    2.    5.2 ]\n",
            " [ 0.    0.    0.    4.2 ]]\n",
            "Cálculo del determinate utilizando la función recursiva a la matriz diagonal:  42.0\n",
            "Cálculo del determinate utilizando la función recursiva:  42.0\n",
            "Cálculo del determinate utilizando la función para matrices triangulares:  42.0\n"
          ]
        }
      ],
      "source": [
        "matriz = [(1, 2, -1, 1), (2, 2, 1, 8), (3, 3, 2, 7), (4, 3, 1, 2)]\n",
        "print(\"Matriz diagonalizada \\n\",eliminacion_gauss_pivoteo_parcial(matriz))\n",
        "print(\"Cálculo del determinate utilizando la función recursiva a la matriz diagonal: \",round(determinante_recursivo(eliminacion_gauss_pivoteo_parcial(matriz)),0))\n",
        "print(\"Cálculo del determinate utilizando la función recursiva: \",determinante_recursivo(matriz))\n",
        "print(\"Cálculo del determinate utilizando la función para matrices triangulares: \",round(matriz_triangular(eliminacion_gauss_pivoteo_parcial(matriz)),0))\n"
      ]
    },
    {
      "cell_type": "markdown",
      "metadata": {
        "id": "opeRHF-bdFrw"
      },
      "source": [
        "##e. ¿Cómo se podría calcular el determinante de una matriz haciendo beneficio de la estrategia anterior y del efecto de aplicar las operaciones elementales pertinentes? Implementa una nueva función, determinante gauss, que calcule el determinante de una matriz utilizando eliminación gaussiana.\n"
      ]
    },
    {
      "cell_type": "code",
      "execution_count": null,
      "metadata": {
        "id": "hUcoBMEVdb-A"
      },
      "outputs": [],
      "source": [
        "def eliminacion_gauss_pivoteo_parcial_determinante(matriz):\n",
        "\n",
        "    # Aplica el método de eliminación de Gauss con pivoteo parcial para escalonar una matriz.\n",
        "    # Convertir la matriz a un arreglo NumPy de tipo float ya que las divisiones harían que ya no sean enteros\n",
        "    nueva_matriz = np.array(matriz, dtype=float)\n",
        "    n = len(matriz)  # Factor n de la Matriz\n",
        "    cambio = 0\n",
        "    for i in range(n-1):\n",
        "        # Pivoteo parcial: buscar el elemento pivote máximo en valor absoluto (función abs de nunpy) y su índice en la columna actual\n",
        "        max_idx = np.argmax(np.abs(nueva_matriz[i:, i])) + i\n",
        "        # Realizó el intercambio de filas dejando la que contiene el mayor valor (valor absoluto) en la primera fila\n",
        "        if max_idx != i:\n",
        "          cambio += 1\n",
        "        nueva_matriz[[i, max_idx]] = nueva_matriz[[max_idx, i]]\n",
        "\n",
        "        # Eliminación gaussiana en las filas siguientes\n",
        "        for j in range(i+1, n):\n",
        "            #Encontramos el valor del escalar que nos permitirá establecer en cero los factores debajo de la columna del mayor factor elejido\n",
        "            factor = nueva_matriz[j, i] / nueva_matriz[i, i]\n",
        "            #Establecemos en cero los valores de la columna por debajo del valor mas grande elegido\n",
        "            nueva_matriz[j, i:] -= factor * nueva_matriz[i, i:]\n",
        "    cofactor = (-1) ** (cambio)\n",
        "    determinante = cofactor * matriz_triangular(nueva_matriz)\n",
        "    return determinante"
      ]
    },
    {
      "cell_type": "code",
      "source": [
        "#Realizamos las respectivas pruebas:\n",
        "matriz = [(-2, 2, -1, 1), (2, 2, 1, 8), (-3, 3, 2, 6), (1, 3, 1, 2)]\n",
        "matriz2 = [(1, 0, 0, 1), (2, 1, 1, 8), (2, 3, 2, 6), (1, 2, 1, 2)]\n",
        "matriz3 = [(1, 1, 2, 1, 2), (2, 1, 2, 8, 4), (2, 3, 2, 6, 3), (2, 3, 1, 2, 1),(1, 0, 0, 1, 2)]\n",
        "print(round(eliminacion_gauss_pivoteo_parcial_determinante(matriz),0))\n",
        "print(determinante_recursivo(matriz))\n",
        "print(round(eliminacion_gauss_pivoteo_parcial_determinante(matriz2),0))\n",
        "print(determinante_recursivo(matriz2))\n",
        "print(round(eliminacion_gauss_pivoteo_parcial_determinante(matriz3),0))\n",
        "print(determinante_recursivo(matriz3))\n"
      ],
      "metadata": {
        "colab": {
          "base_uri": "https://localhost:8080/"
        },
        "id": "Iq1axcAHktjz",
        "outputId": "d8c74d92-2fd3-4a7b-85f2-77122d078a3d"
      },
      "execution_count": null,
      "outputs": [
        {
          "output_type": "stream",
          "name": "stdout",
          "text": [
            "200.0\n",
            "200.0\n",
            "-3.0\n",
            "-3.0\n",
            "-42.0\n",
            "-42.0\n"
          ]
        }
      ]
    },
    {
      "cell_type": "markdown",
      "metadata": {
        "id": "TraNGVt3ddce"
      },
      "source": [
        "##f. Obtén la complejidad computacional asociada al cálculo del determinante con la definición recursiva y con el método de eliminación de Gauss con pivoteo parcial.\n"
      ]
    },
    {
      "cell_type": "markdown",
      "metadata": {
        "id": "ApGfOFMEddiB"
      },
      "source": [
        "\n",
        "\n",
        "*   Complejidad computacional asociada al cálculo del determinante con la definición recursiva:\n",
        "\n",
        "Analizamos la complejidad asociada a esta función que se compone en realidad por dos funciones de la siguiente manera:\n",
        "<br><br>\n",
        "La función determinante_recursivo es una implementación recursiva del cálculo del determinante de una matriz cuadrada. Para cada llamada recursiva, se genera una submatriz más pequeña eliminando una fila y una columna de la matriz original. La función submatriz se encarga de generar la submatriz correspondiente.\n",
        "<br><br>\n",
        "El caso base ocurre cuando la matriz es de tamaño 1x1, donde se retorna el único elemento de la matriz.\n",
        "<br>\n",
        "En cada nivel recursivo, se realiza un bucle for que itera sobre los elementos de la primera fila de la matriz y calcula el cofactor correspondiente multiplicado por el determinante de la submatriz. Luego, se suma el cofactor al determinante acumulado.\n",
        "<br>\n",
        "\n",
        "\n",
        "    for j in range(len(nueva_matriz[0])):\n",
        "        cofactor = (-1) ** (j) * nueva_matriz[0][j] * determinante_recursivo(submatriz(nueva_matriz, 0, j))\n",
        "        # Sumar el cofactor al determinante\n",
        "        det += cofactor\n",
        "    return det\n",
        "\n",
        "La función submatriz utiliza la función np.delete para eliminar una fila y una columna de la matriz, lo cual tiene una complejidad de O(n^2), donde n es el tamaño de la matriz.\n",
        "<br>\n",
        "\n",
        "     def submatriz(nueva_matriz, i, j):<br>\n",
        "        sub = np.delete(nueva_matriz, i, axis=0)  # Eliminar la fila i<br>\n",
        "        sub = np.delete(sub, j, axis=1)  # Eliminar la columna j<br>\n",
        "        return sub<br>\n",
        "\n",
        "En resumen, si n es el tamaño de la matriz cuadrada original, la complejidad computacional de la función determinante_recursivo puede aproximarse a O(n!) o O(n^n), debido a que en cada llamada recursiva se generan n submatrices más pequeñas.\n",
        "<br>\n",
        "<br>\n",
        "\n"
      ]
    },
    {
      "cell_type": "markdown",
      "source": [
        "*   Complejidad computacional asociada al cálculo por el método de eliminación de Gauss con pivoteo parcial:\n",
        "\n",
        "la función eliminacion_gauss_pivoteo_parcial_determinante lo analizamos de la siguiente manera:\n",
        "<br><br>\n",
        "La función eliminacion_gauss_pivoteo_parcial_determinante realiza el método de eliminación de Gauss con pivoteo parcial para obtener la forma escalonada de una matriz y calcular su determinante.\n",
        "<br><br>\n",
        "\n",
        "    nueva_matriz = np.array(matriz, dtype=float)\n",
        "    n = len(matriz)  # Factor n de la Matriz\n",
        "    cambio = 0\n",
        "    for i in range(n-1):\n",
        "        # Pivoteo parcial: buscar el elemento pivote máximo en valor absoluto (función abs de nunpy) y su índice en la columna actual\n",
        "        max_idx = np.argmax(np.abs(nueva_matriz[i:, i])) + i\n",
        "        # Realizó el intercambio de filas dejando la que contiene el mayor valor (valor absoluto) en la primera fila\n",
        "        if max_idx != i:\n",
        "          cambio += 1\n",
        "        nueva_matriz[[i, max_idx]] = nueva_matriz[[max_idx, i]]\n",
        "\n",
        "        # Eliminación gaussiana en las filas siguientes\n",
        "        for j in range(i+1, n):\n",
        "            #Encontramos el valor del escalar que nos permitirá establecer en cero los factores debajo de la columna del mayor factor elejido\n",
        "            factor = nueva_matriz[j, i] / nueva_matriz[i, i]\n",
        "            #Establecemos en cero los valores de la columna por debajo del valor mas grande elegido\n",
        "            nueva_matriz[j, i:] -= factor * nueva_matriz[i, i:]\n",
        "    cofactor = (-1) ** (cambio)\n",
        "    determinante = cofactor * matriz_triangular(nueva_matriz)\n",
        "\n",
        "La función también utiliza la función matriz_triangular para verificar si la matriz es triangular y calcular el determinante en ese caso.\n",
        "\n",
        "    def matriz_triangular(matriz):\n",
        "      nueva_matriz = np.array(matriz, dtype=float)\n",
        "\n",
        "      if nueva_matriz.shape[0]!= nueva_matriz.shape[1]:\n",
        "      return print(\"Esta no es una matriz cuadrada\")\n",
        "      factor = nueva_matriz.shape[1]\n",
        "\n",
        "      triangular_s = 1\n",
        "      triangular_i = 1\n",
        "      for i in range(factor-1):\n",
        "        if np.sum(nueva_matriz[i][i+1:], axis=0) != 0:\n",
        "        triangular_s = 0\n",
        "        break\n",
        "      for i in range(factor-1):\n",
        "        if np.sum(nueva_matriz[factor-i-1][:factor-i-1], axis=0) != 0:\n",
        "        triangular_i = 0\n",
        "        break\n",
        "\n",
        "      if triangular_s == 1 or triangular_i == 1:\n",
        "        determinante = 1\n",
        "        for i in range(factor):\n",
        "        determinante *= nueva_matriz[i][i]\n",
        "        return determinante\n",
        "      if triangular_s == 0 and triangular_i == 0:\n",
        "        print(\"Esta matriz no es triangular superior o inferior\")\n",
        "        return determinante_recursivo(matriz)\n",
        "<br>\n",
        "\n",
        "En el peor de los casos, la función recorre la matriz mediante dos bucles for. El bucle externo itera n-1 veces, donde n es el número de filas (o columnas) de la matriz. El bucle interno itera n-i veces en cada iteración del bucle externo. Dentro de este bucle, se realiza el pivoteo parcial y la eliminación gaussiana, que implica operaciones de asignación y resta de vectores.\n",
        "<br><br>\n",
        "Por lo tanto, la complejidad del algoritmo de eliminación de Gauss con pivoteo parcial en este caso es aproximadamente O(n^3), ya que se realizan operaciones básicas de asignación y resta en cada iteración del bucle interno. El número de iteraciones es proporcional a n en el peor caso, y cada iteración implica operaciones en un subconjunto de la matriz.\n",
        "<br><br>\n",
        "La función matriz_triangular realiza algunas comprobaciones y cálculos adicionales para determinar si la matriz es triangular superior o inferior y calcular su determinante en ese caso. Estas operaciones tienen una complejidad aproximada de O(n^2), ya que se recorren las filas y columnas de la matriz.\n",
        "<br><br>\n",
        "En resumen, la complejidad computacional de la función eliminacion_gauss_pivoteo_parcial_determinante es O(n^3), mientras que la complejidad de la función matriz_triangular es O(n^2)."
      ],
      "metadata": {
        "id": "8Efdai5KRuhU"
      }
    },
    {
      "cell_type": "markdown",
      "metadata": {
        "id": "mtiuJCFJiCqW"
      },
      "source": [
        "##g. Utilizando numpy.random.rand, genera matrices cuadradas aleatorias de la forma An ∈ R n×n, para 2 ≤ n ≤ 10, y confecciona una tabla comparativa del tiempo de ejecuciónn asociado a cada una de las variantes siguientes interpretando los resultados:\n",
        "\n",
        "##Utilizando determinante recursivo.\n",
        "##Empleando determinante gauss.\n",
        "##Haciendo uso de la función preprogramada numpy.linalg.det.\n"
      ]
    },
    {
      "cell_type": "code",
      "source": [
        "#Se generan dos matrices para almacenar los tiempos y tamaños de matrices que utilizan los 3 métodos para obtener el determinante\n",
        "import time\n",
        "\n",
        "#Matrices que guardan los tiempos empleados y el tamaño correspondiente (2<=n=<10)\n",
        "tiempos=np.zeros((11,3))\n",
        "tamano=np.zeros((11,3))\n",
        "\n",
        "\n",
        "for tt in range(2,11):\n",
        "    x=tt\n",
        "    mat=np.random.randn(x,x)\n",
        "    time1=time.time()\n",
        "    np.linalg.det(mat)\n",
        "    time2=time.time()\n",
        "    tiempos[tt][0]=time2-time1\n",
        "    tamano[tt][0]=x\n",
        "\n",
        "    time3=time.time()\n",
        "    determinante_recursivo(mat)\n",
        "    time4=time.time()\n",
        "    tiempos[tt][1]=time4-time3\n",
        "    tamano[tt][1]=x\n",
        "\n",
        "    time5=time.time()\n",
        "    eliminacion_gauss_pivoteo_parcial_determinante(mat)\n",
        "    time6=time.time()\n",
        "    tiempos[tt][2]=time6-time5\n",
        "    tamano[tt][2]=x\n",
        "\n",
        "print(tiempos)\n",
        "print(tamano)"
      ],
      "metadata": {
        "colab": {
          "base_uri": "https://localhost:8080/"
        },
        "id": "TU_qvfswF08_",
        "outputId": "d5263a55-bd6c-4557-8a53-a1c36edb64c3"
      },
      "execution_count": null,
      "outputs": [
        {
          "output_type": "stream",
          "name": "stdout",
          "text": [
            "Esta matriz no es triangular superior o inferior\n",
            "Esta matriz no es triangular superior o inferior\n",
            "Esta matriz no es triangular superior o inferior\n",
            "Esta matriz no es triangular superior o inferior\n",
            "Esta matriz no es triangular superior o inferior\n",
            "Esta matriz no es triangular superior o inferior\n",
            "Esta matriz no es triangular superior o inferior\n",
            "[[0.00000000e+00 0.00000000e+00 0.00000000e+00]\n",
            " [0.00000000e+00 0.00000000e+00 0.00000000e+00]\n",
            " [1.87873840e-04 1.31368637e-04 1.89065933e-04]\n",
            " [4.38690186e-05 2.22921371e-04 1.67369843e-04]\n",
            " [3.45706940e-05 1.38330460e-03 2.30407715e-03]\n",
            " [6.58035278e-05 4.83727455e-03 1.03390217e-02]\n",
            " [8.53538513e-05 2.89580822e-02 1.82268620e-02]\n",
            " [9.10758972e-05 1.10663176e-01 1.34387970e-01]\n",
            " [8.15391541e-05 8.49195004e-01 1.28537393e+00]\n",
            " [8.15391541e-05 1.59682910e+01 1.63065095e+01]\n",
            " [7.74860382e-05 8.60774691e+01 8.80290158e+01]]\n",
            "[[ 0.  0.  0.]\n",
            " [ 0.  0.  0.]\n",
            " [ 2.  2.  2.]\n",
            " [ 3.  3.  3.]\n",
            " [ 4.  4.  4.]\n",
            " [ 5.  5.  5.]\n",
            " [ 6.  6.  6.]\n",
            " [ 7.  7.  7.]\n",
            " [ 8.  8.  8.]\n",
            " [ 9.  9.  9.]\n",
            " [10. 10. 10.]]\n"
          ]
        }
      ]
    },
    {
      "cell_type": "code",
      "source": [
        "#Se eliminan las primeras filas porque solo se obtiene el determinante para matrices con 2<n<10\n",
        "tamano=np.delete(tamano,(0),axis=0)\n",
        "tamano=np.delete(tamano,(0),axis=0)\n",
        "tiempos=np.delete(tiempos,(0),axis=0)\n",
        "tiempos=np.delete(tiempos,(0),axis=0)\n",
        "\n",
        "#Se muestran los tiempos promedio en ms para tipo de función\n",
        "print(\"Promedio en ms con función Numpy: \", np.mean(tiempos,axis=0)[0])\n",
        "print(\"Promedio en ms con Determinante recursivo: \", np.mean(tiempos,axis=0)[1])\n",
        "print(\"Promedio en ms con Eliminación de Gauss: \", np.mean(tiempos,axis=0)[2])"
      ],
      "metadata": {
        "colab": {
          "base_uri": "https://localhost:8080/"
        },
        "id": "48xLBPz2Hb0N",
        "outputId": "69bb3217-a4b3-40f9-f3c2-993f009fafb2"
      },
      "execution_count": null,
      "outputs": [
        {
          "output_type": "stream",
          "name": "stdout",
          "text": [
            "Promedio en ms con función Numpy:  8.323457505967881e-05\n",
            "Promedio en ms con Determinante recursivo:  11.449016809463501\n",
            "Promedio en ms con Eliminación de Gauss:  11.754057062996758\n"
          ]
        }
      ]
    },
    {
      "cell_type": "markdown",
      "source": [
        "En la siguiente sección se generan las gráficas del tiempo empleado por cada tipo de función según el tamaño de la matriz (nxn). Se puede observar que el tiempo empleado por la función de Numpy es muy inferior al requerido por las funciones desarrolladas."
      ],
      "metadata": {
        "id": "q24a7q9OHtfK"
      }
    },
    {
      "cell_type": "code",
      "source": [
        "import pandas as pd\n",
        "import matplotlib.pyplot as plt\n",
        "\n",
        "#Se genera un DataFrame para visualizar los tiempos de cada tipo de función\n",
        "nueva=pd.DataFrame(tiempos, columns=[\"Linalg\",\"Det. recursivo\",\"Elimin. Gauss\"], index=range(2,11))\n",
        "nueva.plot(style=['r-','g-','b-'], xticks=range(2,10), title='Tiempo en ms', subplots=True)\n",
        "plt.xlabel('Tamaño de la matriz (n)')"
      ],
      "metadata": {
        "colab": {
          "base_uri": "https://localhost:8080/",
          "height": 514
        },
        "id": "Mtkvr6nGHg3n",
        "outputId": "84e62989-89af-408d-a718-df574efadeca"
      },
      "execution_count": null,
      "outputs": [
        {
          "output_type": "execute_result",
          "data": {
            "text/plain": [
              "Text(0.5, 0, 'Tamaño de la matriz (n)')"
            ]
          },
          "metadata": {},
          "execution_count": 26
        },
        {
          "output_type": "display_data",
          "data": {
            "text/plain": [
              "<Figure size 640x480 with 3 Axes>"
            ],
            "image/png": "[encoded data removed]"
          },
          "metadata": {}
        }
      ]
    },
    {
      "cell_type": "markdown",
      "source": [
        "Se adjunta una imagen del resultado en el caso de que no se ejecuten todos los segmentos de código"
      ],
      "metadata": {
        "id": "VU6Wsp1dIXei"
      }
    },
    {
      "cell_type": "markdown",
      "source": [
        "![Captura de pantalla 2023-06-22 145859.png](data:image/png;base64,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)"
      ],
      "metadata": {
        "id": "4ksIXt1deajR"
      }
    },
    {
      "cell_type": "markdown",
      "source": [
        "# 2. En este ejercicio trabajaremos con el método de descenso de gradiente, el cual constituye otra herramienta crucial, en esta ocasión de la rama del cálculo, para el proceso de retropropagación asociado al entrenamiento de una red neuronal.\n",
        "\n",
        "## a) Prográmese en Python el método de descenso de gradiente para funciones de n variables."
      ],
      "metadata": {
        "id": "6nNrrMvWIrf7"
      }
    },
    {
      "cell_type": "code",
      "source": [
        "#Función para obtener el gradiente\n",
        "def grad_f(list):\n",
        "    resultado=[]\n",
        "    for g in list:\n",
        "        if g[1]==0:\n",
        "            resultado.append((0,0))\n",
        "        else:\n",
        "            factor=g[0]*g[1]\n",
        "            exponente=g[1]-1\n",
        "            resultado.append((factor,exponente))\n",
        "    return resultado\n",
        "\n",
        "#Se realiza la prueba con la ecuación f(x) = 3x4 + 4x3 − 12x2 + 7\n",
        "ecuacion=((3,4),(4,3),(-12,2),(7,0))\n",
        "grad_f(ecuacion)"
      ],
      "metadata": {
        "colab": {
          "base_uri": "https://localhost:8080/"
        },
        "id": "BYNgmM85JRVW",
        "outputId": "92d1a410-3c02-4ed5-fb82-c21bacdc67dc"
      },
      "execution_count": null,
      "outputs": [
        {
          "output_type": "execute_result",
          "data": {
            "text/plain": [
              "[(12, 3), (12, 2), (-24, 1), (0, 0)]"
            ]
          },
          "metadata": {},
          "execution_count": 27
        }
      ]
    },
    {
      "cell_type": "markdown",
      "source": [
        "La siguiente función permite obtener el valor en el que el gradiente es aproximadamente 0"
      ],
      "metadata": {
        "id": "geNRHjGTN676"
      }
    },
    {
      "cell_type": "code",
      "source": [
        "import numpy as np\n",
        "import matplotlib.pyplot as plt\n",
        "\n",
        "#función para obtener el descendiente del gradiente\n",
        "def desce_grad(funcion,val_ini, rat_apren, tol, maxit):\n",
        "\n",
        "    X_res=np.empty((1))\n",
        "    Y_res=np.empty((1))\n",
        "    resultado=val_ini\n",
        "    x=val_ini\n",
        "    gra=grad_f(funcion)\n",
        "    fun_y= lambda X: funcion[0][0]*X**funcion[0][1]+funcion[1][0]*X**funcion[1][1]+funcion[2][0]*X**funcion[2][1]+funcion[3][0]\n",
        "    der= lambda X: gra[0][0]*X**gra[0][1]+gra[1][0]*X**gra[1][1]+gra[2][0]*X**gra[2][1]\n",
        "\n",
        "\n",
        "    for num in range(maxit):\n",
        "\n",
        "        x=x-(rat_apren*der(x))\n",
        "\n",
        "        if np.isclose(der(x),0,atol=tol):\n",
        "            print(\"Valor en y:\",round(fun_y(x),0))\n",
        "            print(\"Valor en x: \",round(x,0))\n",
        "            print(\"Iteraciones: \", num, \". Radio de apren: \", rat_apren)\n",
        "            return x\n",
        "\n",
        "    print(f\"No se encontró el mínimo en las f{maxit} iteraciones. \",x)\n",
        "\n",
        "    return x\n"
      ],
      "metadata": {
        "id": "q-0qq5PrMWgL"
      },
      "execution_count": null,
      "outputs": []
    },
    {
      "cell_type": "markdown",
      "source": [
        "## b) Sea la función f : R → R dada por f(x) = 3x4 + 4x3 − 12x2 + 7.\n",
        "\n",
        "### I. Aplica el método sobre f(x) con x0 = 3 γ = 0.001, tol=1e-12,maxit=1e5."
      ],
      "metadata": {
        "id": "sLCnTwLPOXx3"
      }
    },
    {
      "cell_type": "code",
      "source": [
        "ecuacion=((3,4),(4,3),(-12,2),(7,0))\n",
        "desce_grad(ecuacion,3,0.001, 1e-12, 100000)"
      ],
      "metadata": {
        "colab": {
          "base_uri": "https://localhost:8080/"
        },
        "id": "G7QDwhLVOx7d",
        "outputId": "9249a714-2ea1-4eba-f304-0b2ab20f2bfc"
      },
      "execution_count": null,
      "outputs": [
        {
          "output_type": "stream",
          "name": "stdout",
          "text": [
            "Valor en y: 2.0\n",
            "Valor en x:  1.0\n",
            "Iteraciones:  830 . Radio de apren:  0.001\n"
          ]
        },
        {
          "output_type": "execute_result",
          "data": {
            "text/plain": [
              "1.0000000000000275"
            ]
          },
          "metadata": {},
          "execution_count": 29
        }
      ]
    },
    {
      "cell_type": "markdown",
      "source": [
        "### II. Aplica de nuevo el método sobre f(x) con x0 = 3, γ = 0.01, tol=1e-12,maxit=1e5."
      ],
      "metadata": {
        "id": "PKu2eMQCQJLx"
      }
    },
    {
      "cell_type": "code",
      "source": [
        "ecuacion=((3,4),(4,3),(-12,2),(7,0))\n",
        "desce_grad(ecuacion,3,0.01, 1e-12, 100000)"
      ],
      "metadata": {
        "colab": {
          "base_uri": "https://localhost:8080/"
        },
        "id": "3fo_QVZ7O1D8",
        "outputId": "4c11c2d5-34f7-47b0-d181-d9a2faa48e87"
      },
      "execution_count": null,
      "outputs": [
        {
          "output_type": "stream",
          "name": "stdout",
          "text": [
            "Valor en y: -25.0\n",
            "Valor en x:  -2.0\n",
            "Iteraciones:  30 . Radio de apren:  0.01\n"
          ]
        },
        {
          "output_type": "execute_result",
          "data": {
            "text/plain": [
              "-1.9999999999999882"
            ]
          },
          "metadata": {},
          "execution_count": 34
        }
      ]
    },
    {
      "cell_type": "markdown",
      "source": [
        "### III Contrasta e interpreta los dos resultados obtenidos en los apartados anteriores y compáralos con los mínimos locales obtenidos analíticamente. ¿Qué influencia puede llegar a tener la elección del ratio de aprendizaje γ?\n",
        "\n",
        "**El radio de aprendizaje permite a la función ir realizando saltos en búsqueda del mínimo del gradiente con la posibilidad de que al realizar saltos muy grandes, la función no identifique que pasó por un mínimo local. Este efecto genera en este ejercicio, que para el primer caso con un γ = 0.001 se detectara el primer mínimo X=1, más cercano al punto de partida, pero al aumentar γ = 0.01, se saltó este mínimo local y siguió hasta encontrar al siguiente mínimo en X=-2**"
      ],
      "metadata": {
        "id": "YoxGpTj1Q8oo"
      }
    },
    {
      "cell_type": "markdown",
      "source": [
        "### IV  Aplica nuevamente el m´etodo sobre f(x) con x0 = 3, γ = 0.1, tol=1e-12, maxit=1e5. Interpreta el resultado."
      ],
      "metadata": {
        "id": "HnAVG_dtSXTD"
      }
    },
    {
      "cell_type": "code",
      "source": [
        "desce_grad(ecuacion,3,0.1, 1e-12, 100000)"
      ],
      "metadata": {
        "colab": {
          "base_uri": "https://localhost:8080/",
          "height": 311
        },
        "id": "LV1J3MPEO2_B",
        "outputId": "637d0247-61df-4f7f-fb82-6fcfcbb570ab"
      },
      "execution_count": null,
      "outputs": [
        {
          "output_type": "error",
          "ename": "OverflowError",
          "evalue": "ignored",
          "traceback": [
            "\u001b[0;31m---------------------------------------------------------------------------\u001b[0m",
            "\u001b[0;31mOverflowError\u001b[0m                             Traceback (most recent call last)",
            "\u001b[0;32m<ipython-input-33-d7d5ba39641b>\u001b[0m in \u001b[0;36m<cell line: 1>\u001b[0;34m()\u001b[0m\n\u001b[0;32m----> 1\u001b[0;31m \u001b[0mdesce_grad\u001b[0m\u001b[0;34m(\u001b[0m\u001b[0mecuacion\u001b[0m\u001b[0;34m,\u001b[0m\u001b[0;36m3\u001b[0m\u001b[0;34m,\u001b[0m\u001b[0;36m0.1\u001b[0m\u001b[0;34m,\u001b[0m \u001b[0;36m1e-12\u001b[0m\u001b[0;34m,\u001b[0m \u001b[0;36m100000\u001b[0m\u001b[0;34m)\u001b[0m\u001b[0;34m\u001b[0m\u001b[0;34m\u001b[0m\u001b[0m\n\u001b[0m",
            "\u001b[0;32m<ipython-input-28-fbbf456ca39e>\u001b[0m in \u001b[0;36mdesce_grad\u001b[0;34m(funcion, val_ini, rat_apren, tol, maxit)\u001b[0m\n\u001b[1;32m     18\u001b[0m         \u001b[0mx\u001b[0m\u001b[0;34m=\u001b[0m\u001b[0mx\u001b[0m\u001b[0;34m-\u001b[0m\u001b[0;34m(\u001b[0m\u001b[0mrat_apren\u001b[0m\u001b[0;34m*\u001b[0m\u001b[0mder\u001b[0m\u001b[0;34m(\u001b[0m\u001b[0mx\u001b[0m\u001b[0;34m)\u001b[0m\u001b[0;34m)\u001b[0m\u001b[0;34m\u001b[0m\u001b[0;34m\u001b[0m\u001b[0m\n\u001b[1;32m     19\u001b[0m \u001b[0;34m\u001b[0m\u001b[0m\n\u001b[0;32m---> 20\u001b[0;31m         \u001b[0;32mif\u001b[0m \u001b[0mnp\u001b[0m\u001b[0;34m.\u001b[0m\u001b[0misclose\u001b[0m\u001b[0;34m(\u001b[0m\u001b[0mder\u001b[0m\u001b[0;34m(\u001b[0m\u001b[0mx\u001b[0m\u001b[0;34m)\u001b[0m\u001b[0;34m,\u001b[0m\u001b[0;36m0\u001b[0m\u001b[0;34m,\u001b[0m\u001b[0matol\u001b[0m\u001b[0;34m=\u001b[0m\u001b[0mtol\u001b[0m\u001b[0;34m)\u001b[0m\u001b[0;34m:\u001b[0m\u001b[0;34m\u001b[0m\u001b[0;34m\u001b[0m\u001b[0m\n\u001b[0m\u001b[1;32m     21\u001b[0m             \u001b[0mprint\u001b[0m\u001b[0;34m(\u001b[0m\u001b[0;34m\"Valor en y:\"\u001b[0m\u001b[0;34m,\u001b[0m\u001b[0mround\u001b[0m\u001b[0;34m(\u001b[0m\u001b[0mfun_y\u001b[0m\u001b[0;34m(\u001b[0m\u001b[0mx\u001b[0m\u001b[0;34m)\u001b[0m\u001b[0;34m,\u001b[0m\u001b[0;36m0\u001b[0m\u001b[0;34m)\u001b[0m\u001b[0;34m)\u001b[0m\u001b[0;34m\u001b[0m\u001b[0;34m\u001b[0m\u001b[0m\n\u001b[1;32m     22\u001b[0m             \u001b[0mprint\u001b[0m\u001b[0;34m(\u001b[0m\u001b[0;34m\"Valor en x: \"\u001b[0m\u001b[0;34m,\u001b[0m\u001b[0mround\u001b[0m\u001b[0;34m(\u001b[0m\u001b[0mx\u001b[0m\u001b[0;34m,\u001b[0m\u001b[0;36m0\u001b[0m\u001b[0;34m)\u001b[0m\u001b[0;34m)\u001b[0m\u001b[0;34m\u001b[0m\u001b[0;34m\u001b[0m\u001b[0m\n",
            "\u001b[0;32m<ipython-input-28-fbbf456ca39e>\u001b[0m in \u001b[0;36m<lambda>\u001b[0;34m(X)\u001b[0m\n\u001b[1;32m     11\u001b[0m     \u001b[0mgra\u001b[0m\u001b[0;34m=\u001b[0m\u001b[0mgrad_f\u001b[0m\u001b[0;34m(\u001b[0m\u001b[0mfuncion\u001b[0m\u001b[0;34m)\u001b[0m\u001b[0;34m\u001b[0m\u001b[0;34m\u001b[0m\u001b[0m\n\u001b[1;32m     12\u001b[0m     \u001b[0mfun_y\u001b[0m\u001b[0;34m=\u001b[0m \u001b[0;32mlambda\u001b[0m \u001b[0mX\u001b[0m\u001b[0;34m:\u001b[0m \u001b[0mfuncion\u001b[0m\u001b[0;34m[\u001b[0m\u001b[0;36m0\u001b[0m\u001b[0;34m]\u001b[0m\u001b[0;34m[\u001b[0m\u001b[0;36m0\u001b[0m\u001b[0;34m]\u001b[0m\u001b[0;34m*\u001b[0m\u001b[0mX\u001b[0m\u001b[0;34m**\u001b[0m\u001b[0mfuncion\u001b[0m\u001b[0;34m[\u001b[0m\u001b[0;36m0\u001b[0m\u001b[0;34m]\u001b[0m\u001b[0;34m[\u001b[0m\u001b[0;36m1\u001b[0m\u001b[0;34m]\u001b[0m\u001b[0;34m+\u001b[0m\u001b[0mfuncion\u001b[0m\u001b[0;34m[\u001b[0m\u001b[0;36m1\u001b[0m\u001b[0;34m]\u001b[0m\u001b[0;34m[\u001b[0m\u001b[0;36m0\u001b[0m\u001b[0;34m]\u001b[0m\u001b[0;34m*\u001b[0m\u001b[0mX\u001b[0m\u001b[0;34m**\u001b[0m\u001b[0mfuncion\u001b[0m\u001b[0;34m[\u001b[0m\u001b[0;36m1\u001b[0m\u001b[0;34m]\u001b[0m\u001b[0;34m[\u001b[0m\u001b[0;36m1\u001b[0m\u001b[0;34m]\u001b[0m\u001b[0;34m+\u001b[0m\u001b[0mfuncion\u001b[0m\u001b[0;34m[\u001b[0m\u001b[0;36m2\u001b[0m\u001b[0;34m]\u001b[0m\u001b[0;34m[\u001b[0m\u001b[0;36m0\u001b[0m\u001b[0;34m]\u001b[0m\u001b[0;34m*\u001b[0m\u001b[0mX\u001b[0m\u001b[0;34m**\u001b[0m\u001b[0mfuncion\u001b[0m\u001b[0;34m[\u001b[0m\u001b[0;36m2\u001b[0m\u001b[0;34m]\u001b[0m\u001b[0;34m[\u001b[0m\u001b[0;36m1\u001b[0m\u001b[0;34m]\u001b[0m\u001b[0;34m+\u001b[0m\u001b[0mfuncion\u001b[0m\u001b[0;34m[\u001b[0m\u001b[0;36m3\u001b[0m\u001b[0;34m]\u001b[0m\u001b[0;34m[\u001b[0m\u001b[0;36m0\u001b[0m\u001b[0;34m]\u001b[0m\u001b[0;34m\u001b[0m\u001b[0;34m\u001b[0m\u001b[0m\n\u001b[0;32m---> 13\u001b[0;31m     \u001b[0mder\u001b[0m\u001b[0;34m=\u001b[0m \u001b[0;32mlambda\u001b[0m \u001b[0mX\u001b[0m\u001b[0;34m:\u001b[0m \u001b[0mgra\u001b[0m\u001b[0;34m[\u001b[0m\u001b[0;36m0\u001b[0m\u001b[0;34m]\u001b[0m\u001b[0;34m[\u001b[0m\u001b[0;36m0\u001b[0m\u001b[0;34m]\u001b[0m\u001b[0;34m*\u001b[0m\u001b[0mX\u001b[0m\u001b[0;34m**\u001b[0m\u001b[0mgra\u001b[0m\u001b[0;34m[\u001b[0m\u001b[0;36m0\u001b[0m\u001b[0;34m]\u001b[0m\u001b[0;34m[\u001b[0m\u001b[0;36m1\u001b[0m\u001b[0;34m]\u001b[0m\u001b[0;34m+\u001b[0m\u001b[0mgra\u001b[0m\u001b[0;34m[\u001b[0m\u001b[0;36m1\u001b[0m\u001b[0;34m]\u001b[0m\u001b[0;34m[\u001b[0m\u001b[0;36m0\u001b[0m\u001b[0;34m]\u001b[0m\u001b[0;34m*\u001b[0m\u001b[0mX\u001b[0m\u001b[0;34m**\u001b[0m\u001b[0mgra\u001b[0m\u001b[0;34m[\u001b[0m\u001b[0;36m1\u001b[0m\u001b[0;34m]\u001b[0m\u001b[0;34m[\u001b[0m\u001b[0;36m1\u001b[0m\u001b[0;34m]\u001b[0m\u001b[0;34m+\u001b[0m\u001b[0mgra\u001b[0m\u001b[0;34m[\u001b[0m\u001b[0;36m2\u001b[0m\u001b[0;34m]\u001b[0m\u001b[0;34m[\u001b[0m\u001b[0;36m0\u001b[0m\u001b[0;34m]\u001b[0m\u001b[0;34m*\u001b[0m\u001b[0mX\u001b[0m\u001b[0;34m**\u001b[0m\u001b[0mgra\u001b[0m\u001b[0;34m[\u001b[0m\u001b[0;36m2\u001b[0m\u001b[0;34m]\u001b[0m\u001b[0;34m[\u001b[0m\u001b[0;36m1\u001b[0m\u001b[0;34m]\u001b[0m\u001b[0;34m\u001b[0m\u001b[0;34m\u001b[0m\u001b[0m\n\u001b[0m\u001b[1;32m     14\u001b[0m \u001b[0;34m\u001b[0m\u001b[0m\n\u001b[1;32m     15\u001b[0m \u001b[0;34m\u001b[0m\u001b[0m\n",
            "\u001b[0;31mOverflowError\u001b[0m: (34, 'Numerical result out of range')"
          ]
        }
      ]
    },
    {
      "cell_type": "markdown",
      "source": [
        "**Para el radio de aprendizaje γ = 0.1, se genera un error en la función debido a que los saltos son muy grandes y generan valores que están por fuera del rango para el tipo de datos utilizado. Esta situación permite identificar que el radio de aprendizaje debe estar en un rango que no requiera tantas iteraciones pero que tampoco sean muy grandes los saltos y desborde la búsqueda.**"
      ],
      "metadata": {
        "id": "u5p3kSJySvE8"
      }
    },
    {
      "cell_type": "markdown",
      "source": [
        "### V. Finalmente, aplica el método sobre f(x) con x0 = 0, γ = 0.001, tol=1e-12, maxit=1e5. Interpreta el resultado y compéralo con el estudio analítico de f. ¿Se trata de un resultado deseable? ¿Por qué? ¿A qué se debe este fenómeno?"
      ],
      "metadata": {
        "id": "o9WbUUVuTlRX"
      }
    },
    {
      "cell_type": "code",
      "source": [
        "desce_grad(ecuacion,0,0.001, 1e-12, 100000)"
      ],
      "metadata": {
        "id": "Xt49OR_CTv6Y"
      },
      "execution_count": null,
      "outputs": []
    },
    {
      "cell_type": "markdown",
      "source": [
        "**El resultado no es el esperado debido a que en el punto de partida se encuentra un máximo local (0,7), que al ser analizado por la función, encuentra que el resultado del gradiente es 0. para evitar estos problemas sería necesario analizar el punto es un mínimo o un máximo por medio de la segunda derivada de la función.**"
      ],
      "metadata": {
        "id": "2r4jUszsWJF0"
      }
    },
    {
      "cell_type": "markdown",
      "source": [
        "## c) Sea la función g : R2 → R dada por g(x, y) = x2 + y3 + 3xy + 1.\n",
        "\n",
        "### I.  Aplíquese el método sobre g(x, y) con x0 = (−1, 1), γ = 0.01,tol=1e-12, maxit=1e5."
      ],
      "metadata": {
        "id": "bgkWqWx6W1dJ"
      }
    },
    {
      "cell_type": "code",
      "source": [
        "import matplotlib.pyplot as plt\n",
        "import math\n",
        "\n",
        "def des_grad(inicio, rat_apren, tol, maxit):\n",
        "    fun_z=lambda x:  x[0]**2 + x[1]**3 +3*x[0]*x[1]+1\n",
        "    der_fun= lambda x: [2*x[0] +  3*x[1], 3*x[1]**2 + 3*x[0]]\n",
        "    match=0\n",
        "\n",
        "    res=100\n",
        "    rango=3\n",
        "    X=np.linspace(-rango,rango,res)\n",
        "    Y=np.linspace(-rango,rango,res)\n",
        "    Z=np.zeros((res,res))\n",
        "    for ix,x in enumerate(X):\n",
        "        for iy,y in enumerate(Y):\n",
        "            Z[ix,iy]=fun_z([x,y])\n",
        "\n",
        "    plt.contourf(X,Y,Z,res)\n",
        "    plt.colorbar()\n",
        "\n",
        "    P=[0,0]\n",
        "    P[0],P[1]=inicio[0],inicio[1]\n",
        "    plt.plot(P[0],P[1],\"o\",c=\"red\")\n",
        "\n",
        "    for num in range(maxit):\n",
        "        grad=der_fun(P)\n",
        "        P[0],P[1]=P[0]-rat_apren*grad[0],P[1]-rat_apren*grad[1]\n",
        "        plt.plot(P[0],P[1],\"o\",c=\"white\")\n",
        "\n",
        "        if math.isclose(grad[0],0, rel_tol=tol) and math.isclose(grad[1],0, rel_tol=tol):\n",
        "                match=1\n",
        "                print(\"Sí se encontró valor para: \",inicio, \" en la iteración: \", num)\n",
        "                print(\"Valor en x: \", P[0],\" en y: \", P[1])\n",
        "                plt.plot(P[0],P[1],\"o\",c=\"blue\")\n",
        "                break\n",
        "\n",
        "    if match==0:\n",
        "        print(\"No se encontró valor para: \", inicio)\n",
        "        print(\"Se llegó al valor: (\", round(P[0],2),\",\", round(P[1],2),\")\")"
      ],
      "metadata": {
        "id": "NUk6jL5FXJYp"
      },
      "execution_count": null,
      "outputs": []
    },
    {
      "cell_type": "code",
      "source": [
        "des_grad((-1,1),0.01,1e-12,100000)"
      ],
      "metadata": {
        "id": "RfTA5lRhXT2t"
      },
      "execution_count": null,
      "outputs": []
    },
    {
      "cell_type": "markdown",
      "source": [
        "**La función no encontró el punto mínimo. La gráfica muestra con trazo de color blanco el recorrido.**"
      ],
      "metadata": {
        "id": "-biLFb3tX98c"
      }
    },
    {
      "cell_type": "markdown",
      "source": [
        "### II. ¿Qué ocurre si ahora partimos de x0 = (0, 0)? ¿Se obtiene un resultado deseable?"
      ],
      "metadata": {
        "id": "_-x9hFlqYI97"
      }
    },
    {
      "cell_type": "code",
      "source": [
        "des_grad((0,0),0.01,1e-12,10000)"
      ],
      "metadata": {
        "id": "4KtYed5RYQdv"
      },
      "execution_count": null,
      "outputs": []
    },
    {
      "cell_type": "markdown",
      "source": [
        "**En este caso el punto de partida es el mínimo, por lo que en la primera iteración la función finaliza.**"
      ],
      "metadata": {
        "id": "8J5Tpw_AYYbF"
      }
    },
    {
      "cell_type": "markdown",
      "source": [
        "### III. Realícese el estudio analítico de la función y utilícese para explicar y contrastar los resultados obtenidos en los dos apartados anteriores.\n",
        "\n",
        "**Se identifica que es muy relevante la elección del punto partida como el radio de aprendizaje, de tal manera que permita de forma dinámica poder elegir diferentes puntos de partida pero también realizar los saltos con una distancia que permita ir recorriendo la función rápido si está lejos el punto mínimo, pero ir reduciendo la distancia entre saltos si se encuentra cerca el mínimo.**"
      ],
      "metadata": {
        "id": "taM0850aYm5b"
      }
    },
    {
      "cell_type": "code",
      "source": [],
      "metadata": {
        "id": "JuijO7AXg0jW"
      },
      "execution_count": null,
      "outputs": []
    }
  ],
  "metadata": {
    "colab": {
      "provenance": [],
      "include_colab_link": true
    },
    "kernelspec": {
      "display_name": "Python 3",
      "name": "python3"
    },
    "language_info": {
      "name": "python"
    }
  },
  "nbformat": 4,
  "nbformat_minor": 0
}